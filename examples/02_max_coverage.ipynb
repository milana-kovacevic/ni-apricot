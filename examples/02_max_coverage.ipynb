{
 "cells": [
  {
   "cell_type": "markdown",
   "id": "9352ff11",
   "metadata": {},
   "source": [
    "## Primer 2. Maximum Coverage"
   ]
  },
  {
   "cell_type": "code",
   "execution_count": 1,
   "id": "af74456c",
   "metadata": {},
   "outputs": [],
   "source": [
    "import numpy as np"
   ]
  },
  {
   "cell_type": "markdown",
   "id": "2be58e25",
   "metadata": {},
   "source": [
    "TODO objasnjenje"
   ]
  },
  {
   "cell_type": "code",
   "execution_count": 2,
   "id": "e65d4b95",
   "metadata": {},
   "outputs": [
    {
     "data": {
      "text/plain": [
       "<apricot.functions.maxCoverage.MaxCoverageSelection at 0x225a7004610>"
      ]
     },
     "execution_count": 2,
     "metadata": {},
     "output_type": "execute_result"
    }
   ],
   "source": [
    "# Primer iz zvanicne dokumentacije\n",
    "# Optimizacija funkcije max coverage nad tekstualnim podacima.\n",
    "from apricot import MaxCoverageSelection\n",
    "from keras.datasets import reuters\n",
    "\n",
    "(X_, _), (_, _) = reuters.load_data(num_words=5000)\n",
    "X = np.zeros((X_.shape[0], max(map(max, X_))+1))\n",
    "for i, x in enumerate(X_):\n",
    "    X[i][x] = 1\n",
    "\n",
    "model = MaxCoverageSelection(250, optimizer='naive')\n",
    "model.fit(X)"
   ]
  },
  {
   "cell_type": "code",
   "execution_count": 3,
   "id": "fe7689e6",
   "metadata": {},
   "outputs": [
    {
     "name": "stdout",
     "output_type": "stream",
     "text": [
      "X_.shape:  (8982,)\n",
      "X.shape:  (8982, 5000)\n"
     ]
    }
   ],
   "source": [
    "print('X_.shape: ', X_.shape)\n",
    "print('X.shape: ', X.shape)"
   ]
  },
  {
   "cell_type": "code",
   "execution_count": 4,
   "id": "1676dfec",
   "metadata": {},
   "outputs": [],
   "source": [
    "X_transformed = model.transform(X)"
   ]
  },
  {
   "cell_type": "code",
   "execution_count": 5,
   "id": "193f2778",
   "metadata": {},
   "outputs": [
    {
     "data": {
      "text/plain": [
       "(250, 5000)"
      ]
     },
     "execution_count": 5,
     "metadata": {},
     "output_type": "execute_result"
    }
   ],
   "source": [
    "X_transformed.shape"
   ]
  },
  {
   "cell_type": "code",
   "execution_count": null,
   "id": "987a1224",
   "metadata": {},
   "outputs": [],
   "source": []
  }
 ],
 "metadata": {
  "kernelspec": {
   "display_name": "Python 3 (ipykernel)",
   "language": "python",
   "name": "python3"
  },
  "language_info": {
   "codemirror_mode": {
    "name": "ipython",
    "version": 3
   },
   "file_extension": ".py",
   "mimetype": "text/x-python",
   "name": "python",
   "nbconvert_exporter": "python",
   "pygments_lexer": "ipython3",
   "version": "3.9.12"
  }
 },
 "nbformat": 4,
 "nbformat_minor": 5
}
