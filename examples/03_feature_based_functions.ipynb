{
 "cells": [
  {
   "cell_type": "markdown",
   "id": "79b7ae13",
   "metadata": {},
   "source": [
    "## Primer 3. Feature-based functions"
   ]
  },
  {
   "cell_type": "markdown",
   "id": "b4c87e03",
   "metadata": {},
   "source": [
    "Funkcije zasnovane na atributima (eng. *feature based functions*) direktno koriste atribute elemenata (ne koriste matricu slicnosti nastalu na osnovu tih atributa). Zbog ovog svojstva, nije im potreban dodatan memorijski prostor $O(n^2)$ za cuvanje matrice slicnosti, te moze da se koristi nad velikim skupovima podataka.<br />"
   ]
  },
  {
   "cell_type": "markdown",
   "id": "9ad43bac",
   "metadata": {},
   "source": [
    "Opsti oblik *feature-based* funkcije je: <br />\n",
    "$f(X)=\\displaystyle \\sum_{d=1}^{D} \\omega_{d} \\phi (\\displaystyle \\sum_{x \\in X}  x_{d})$ <br />\n",
    "\n",
    "gde je $f$ funkcija, $X \\subseteq Y$, Y je ceo skup podataka, d je jedan atribut u tom skupu, $D$ je ukupan broj atributa, $\\omega_{d}$ je tezina atributa d, $x$ je element iz skupa $X$, a $x_{d}$ je vrednost atributa d za element $x$, a \\phi je konkavna funkciju $\\phi$ (na primer *sqrt* ili *log*). Funkcija $\\phi$ obezbedjuje svojstvo iscezavanja (eng. *diminishing returns property*). <br />\n",
    "Bitno je naglasiti da za izracunavanje funkcije $f$ nije potreban ceo skup, vec samo podskup $X$."
   ]
  },
  {
   "cell_type": "markdown",
   "id": "077334e9",
   "metadata": {},
   "source": [
    "Maksimizacijom funkcije zasnovane na atributima izdvaja se podskup elemenata cije su vrednosti atributa velike. Zbog toga se koriste kada svaki atribut predstavlja neki kvalitet/osobinu elementa (gde veca vrednost znaci vecu zastupljenost te osobine, a $0$ znaci da element nema tu osobinu). Vrednosti atributa ne mogu biti negativne."
   ]
  },
  {
   "cell_type": "markdown",
   "id": "9e672024",
   "metadata": {},
   "source": [
    "Napomena: Koriscenje funkcija zasnovane na atributima nije uvek najbolje resenje. Pretpostavka je da svaki atribut predstavlja neki smisleni kvalitet elementa ima smisla u nekim slucajevima, ali na primer, nema smisla ukoliko je element slika, a njeni atrbuti vrednosti piksela.\n",
    "Moguce je transformisati ulazni skup podataka i tek onda koristiti ove funkcije."
   ]
  },
  {
   "cell_type": "code",
   "execution_count": 1,
   "id": "569ee47e",
   "metadata": {},
   "outputs": [],
   "source": [
    "from apricot import FeatureBasedSelection\n",
    "from sklearn.datasets import load_iris\n",
    "import numpy as np\n",
    "from matplotlib import pyplot as plt"
   ]
  },
  {
   "cell_type": "markdown",
   "id": "af9699e1",
   "metadata": {},
   "source": [
    "https://scikit-learn.org/stable/auto_examples/datasets/plot_iris_dataset.html <br />\n",
    "\"This data sets consists of 3 different types of irises’ (Setosa, Versicolour, and Virginica) petal and sepal length, stored in a 150x4 numpy.ndarray\""
   ]
  },
  {
   "cell_type": "code",
   "execution_count": 2,
   "id": "a7874ee1",
   "metadata": {},
   "outputs": [],
   "source": [
    "X, y = load_iris(return_X_y=True)"
   ]
  },
  {
   "cell_type": "code",
   "execution_count": 3,
   "id": "d956f700",
   "metadata": {},
   "outputs": [
    {
     "name": "stdout",
     "output_type": "stream",
     "text": [
      "X.shape: (150, 4)\n",
      "y.shape: (150,)\n"
     ]
    }
   ],
   "source": [
    "print('X.shape:', X.shape)\n",
    "print('y.shape:', y.shape)"
   ]
  },
  {
   "cell_type": "code",
   "execution_count": 4,
   "id": "e5f43156",
   "metadata": {},
   "outputs": [
    {
     "name": "stdout",
     "output_type": "stream",
     "text": [
      "Jedinstvene vrednosti y: [0 1 2]\n"
     ]
    }
   ],
   "source": [
    "print('Jedinstvene vrednosti y:', np.unique(y))"
   ]
  },
  {
   "cell_type": "code",
   "execution_count": 5,
   "id": "74b82062",
   "metadata": {},
   "outputs": [],
   "source": [
    "n_samples = 10"
   ]
  },
  {
   "cell_type": "code",
   "execution_count": 6,
   "id": "ba07120d",
   "metadata": {},
   "outputs": [
    {
     "name": "stderr",
     "output_type": "stream",
     "text": [
      "100%|██████████| 10.0/10.0 [00:00<00:00, 640it/s]\n"
     ]
    }
   ],
   "source": [
    "selection = FeatureBasedSelection(n_samples, 'sqrt', verbose=True)\n",
    "X_subset = selection.fit_transform(X)"
   ]
  },
  {
   "cell_type": "code",
   "execution_count": 7,
   "id": "b1c3d0d7",
   "metadata": {},
   "outputs": [
    {
     "name": "stdout",
     "output_type": "stream",
     "text": [
      "X_subset.shape: (10, 4)\n"
     ]
    }
   ],
   "source": [
    "print('X_subset.shape:', X_subset.shape)"
   ]
  },
  {
   "cell_type": "code",
   "execution_count": 8,
   "id": "072156c9",
   "metadata": {},
   "outputs": [
    {
     "data": {
      "text/plain": [
       "array([[7.7, 3.8, 6.7, 2.2],\n",
       "       [7.9, 3.8, 6.4, 2. ],\n",
       "       [7.2, 3.6, 6.1, 2.5],\n",
       "       [7.7, 2.6, 6.9, 2.3],\n",
       "       [7.6, 3. , 6.6, 2.1],\n",
       "       [7.7, 3. , 6.1, 2.3],\n",
       "       [7.7, 2.8, 6.7, 2. ],\n",
       "       [6.7, 3.3, 5.7, 2.5],\n",
       "       [6.3, 3.3, 6. , 2.5],\n",
       "       [6.8, 3.2, 5.9, 2.3]])"
      ]
     },
     "execution_count": 8,
     "metadata": {},
     "output_type": "execute_result"
    }
   ],
   "source": [
    "X_subset"
   ]
  },
  {
   "cell_type": "code",
   "execution_count": 9,
   "id": "065344b0",
   "metadata": {},
   "outputs": [
    {
     "data": {
      "text/plain": [
       "4.7875"
      ]
     },
     "execution_count": 9,
     "metadata": {},
     "output_type": "execute_result"
    }
   ],
   "source": [
    "X_subset.mean()"
   ]
  },
  {
   "cell_type": "code",
   "execution_count": 10,
   "id": "175bf07e",
   "metadata": {},
   "outputs": [
    {
     "data": {
      "text/plain": [
       "3.4644999999999997"
      ]
     },
     "execution_count": 10,
     "metadata": {},
     "output_type": "execute_result"
    }
   ],
   "source": [
    "X.mean()"
   ]
  },
  {
   "cell_type": "code",
   "execution_count": null,
   "id": "2a920afa",
   "metadata": {},
   "outputs": [],
   "source": []
  }
 ],
 "metadata": {
  "kernelspec": {
   "display_name": "Python 3 (ipykernel)",
   "language": "python",
   "name": "python3"
  },
  "language_info": {
   "codemirror_mode": {
    "name": "ipython",
    "version": 3
   },
   "file_extension": ".py",
   "mimetype": "text/x-python",
   "name": "python",
   "nbconvert_exporter": "python",
   "pygments_lexer": "ipython3",
   "version": "3.9.12"
  }
 },
 "nbformat": 4,
 "nbformat_minor": 5
}
