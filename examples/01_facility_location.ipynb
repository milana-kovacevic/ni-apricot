{
 "cells": [
  {
   "cell_type": "markdown",
   "metadata": {},
   "source": [
    "## Primer 1. Facility location"
   ]
  },
  {
   "cell_type": "markdown",
   "metadata": {},
   "source": [
    "Facility location je submodularna funkcija koja je veoma primenljiva nad skupovima gde se moze definisati funkcija slicnosti izmedju dva elementa.\n",
    "Njenom optimizacijom se izdvaja podskup elemenata koji dobro predstavlja originalni skup.\n",
    "Njenom optimizacijom se maksimizuje slicnost izmedju parova elemenata koristeci informaciju o slicnosti parova elemenata skipa.\n",
    "\n",
    "Funkcija koja racuna slicnost dve elementa mora biti nenegativna, a veca vrednost znaci da su elementi slicniji. Jedan primer je funkcija euklidskog rastojanja.\n",
    "\n",
    "Opsti oblik:\n",
    "\n",
    "$f(X,Y)=\\displaystyle \\sum_{y \\in Y} \\max_{x \\in X} \\phi(x,y)$\n",
    "\n",
    "gde je $f$ funkcija, $X$ podskup, $Y$ ceo skup, a $\\phi$ je funkcija slicnosti dva elementa.\n",
    "\n",
    "\n",
    "TODO\n",
    "\n",
    "In many ways, optimizing a facility location function is simply a greedy version of k-medoids, where after the first few examples are selected, the subsequent ones are at the center of clusters. The function, like most graph-based functions, operates on a pairwise similarity matrix, and successively chooses examples that are similar to examples whose current most-similar example is still very dissimilar. Phrased another way, successively chosen examples are representative of underrepresented examples.\n",
    "\n"
   ]
  },
  {
   "cell_type": "markdown",
   "metadata": {},
   "source": [
    "Implementacija *FacilityLocationSelection* u paketu Apricot daje mogucnost korisniku da ili sam izracuna i prosledi simetricnu kvadratnu matricu slicnosti elemenata, ili da prosledi ceo skup podataka i funkciju koja racuna slicnost dva elementa.\n",
    "U narednom primeru, prosledjuje se ceo skup podataka, i bira se funkcija euklidskog rastojanja.\n",
    "\n",
    "Like most graph-based functons, the facility location function requires access to the full ground set.\n",
    "\n",
    "COGs: requires n^2 memory with the number of examples for the similarity matrix - impractical"
   ]
  },
  {
   "cell_type": "code",
   "execution_count": 1,
   "metadata": {},
   "outputs": [],
   "source": [
    "from apricot import FacilityLocationSelection\n",
    "from sklearn.datasets import load_digits"
   ]
  },
  {
   "cell_type": "code",
   "execution_count": 2,
   "metadata": {},
   "outputs": [],
   "source": [
    "data = load_digits()\n",
    "X_train = data.data[:1250]"
   ]
  },
  {
   "cell_type": "code",
   "execution_count": 3,
   "metadata": {},
   "outputs": [],
   "source": [
    "n_samples = 42"
   ]
  },
  {
   "cell_type": "code",
   "execution_count": 4,
   "metadata": {},
   "outputs": [
    {
     "data": {
      "text/plain": [
       "<apricot.functions.facilityLocation.FacilityLocationSelection at 0x14fa0524340>"
      ]
     },
     "execution_count": 4,
     "metadata": {},
     "output_type": "execute_result"
    }
   ],
   "source": [
    "selector = FacilityLocationSelection(n_samples, metric='euclidean', optimizer='lazy', verbose=False)\n",
    "selector.fit(X_train)"
   ]
  },
  {
   "cell_type": "code",
   "execution_count": 5,
   "metadata": {},
   "outputs": [],
   "source": [
    "X_train_subset = selector.transform(X_train)"
   ]
  },
  {
   "cell_type": "code",
   "execution_count": 6,
   "metadata": {},
   "outputs": [
    {
     "data": {
      "text/plain": [
       "(42, 64)"
      ]
     },
     "execution_count": 6,
     "metadata": {},
     "output_type": "execute_result"
    }
   ],
   "source": [
    "X_train_subset.shape"
   ]
  },
  {
   "cell_type": "code",
   "execution_count": 7,
   "metadata": {},
   "outputs": [
    {
     "data": {
      "text/plain": [
       "array([[ 0.,  0.,  1., ...,  6.,  0.,  0.],\n",
       "       [ 0.,  0.,  1., ...,  9.,  0.,  0.],\n",
       "       [ 0.,  0.,  7., ...,  3.,  0.,  0.],\n",
       "       ...,\n",
       "       [ 0.,  0.,  0., ...,  0.,  0.,  0.],\n",
       "       [ 0.,  0.,  0., ..., 16.,  9.,  0.],\n",
       "       [ 0.,  0.,  7., ..., 10.,  1.,  0.]])"
      ]
     },
     "execution_count": 7,
     "metadata": {},
     "output_type": "execute_result"
    }
   ],
   "source": [
    "X_train_subset"
   ]
  },
  {
   "cell_type": "code",
   "execution_count": 11,
   "metadata": {},
   "outputs": [
    {
     "data": {
      "text/plain": [
       "array([ 0.,  0.,  0., 12., 13.,  5.,  0.,  0.,  0.,  0.,  0., 11., 16.,\n",
       "        9.,  0.,  0.,  0.,  0.,  3., 15., 16.,  6.,  0.,  0.,  0.,  7.,\n",
       "       15., 16., 16.,  2.,  0.,  0.,  0.,  0.,  1., 16., 16.,  3.,  0.,\n",
       "        0.,  0.,  0.,  1., 16., 16.,  6.,  0.,  0.,  0.,  0.,  1., 16.,\n",
       "       16.,  6.,  0.,  0.,  0.,  0.,  0., 11., 16., 10.,  0.,  0.])"
      ]
     },
     "execution_count": 11,
     "metadata": {},
     "output_type": "execute_result"
    }
   ],
   "source": [
    "data.data[1]"
   ]
  },
  {
   "cell_type": "code",
   "execution_count": null,
   "metadata": {},
   "outputs": [],
   "source": []
  }
 ],
 "metadata": {
  "kernelspec": {
   "display_name": "Python 3 (ipykernel)",
   "language": "python",
   "name": "python3"
  },
  "language_info": {
   "codemirror_mode": {
    "name": "ipython",
    "version": 3
   },
   "file_extension": ".py",
   "mimetype": "text/x-python",
   "name": "python",
   "nbconvert_exporter": "python",
   "pygments_lexer": "ipython3",
   "version": "3.9.12"
  }
 },
 "nbformat": 4,
 "nbformat_minor": 2
}
