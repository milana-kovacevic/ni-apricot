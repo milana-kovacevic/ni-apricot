{
 "cells": [
  {
   "cell_type": "markdown",
   "id": "345d1a0f",
   "metadata": {},
   "source": [
    "## Primer 4. Sample weight"
   ]
  },
  {
   "cell_type": "markdown",
   "id": "0b2b347c",
   "metadata": {},
   "source": [
    "Ovaj primer demonstrira korišćenje informacije o težini elemenata. Prilikom optimizacije se koriste prosleđene težine (odnosno cena) elemenata umesto uobičajenog ograničenja za kardinalnost elemenata.  <br />\n",
    "Na početku je dat opšti primer korišćenja težina, a zatim je rešen i problem ranca."
   ]
  },
  {
   "cell_type": "code",
   "execution_count": 1,
   "id": "92e4fa9a",
   "metadata": {},
   "outputs": [],
   "source": [
    "from apricot import FeatureBasedSelection\n",
    "import numpy"
   ]
  },
  {
   "cell_type": "markdown",
   "id": "f429f51a",
   "metadata": {},
   "source": [
    "Primer 4.a: Slučajno generisan niz podataka i težinama."
   ]
  },
  {
   "cell_type": "code",
   "execution_count": 2,
   "id": "e043aed1",
   "metadata": {},
   "outputs": [
    {
     "data": {
      "text/plain": [
       "<apricot.functions.featureBased.FeatureBasedSelection at 0x1c974f5c520>"
      ]
     },
     "execution_count": 2,
     "metadata": {},
     "output_type": "execute_result"
    }
   ],
   "source": [
    "X = numpy.random.randint(2, size=(10000, 100))\n",
    "sample_cost = numpy.abs(numpy.random.randn(10000))\n",
    "\n",
    "selector = FeatureBasedSelection(100, 'sqrt')\n",
    "selector.fit(X, sample_cost=sample_cost)"
   ]
  },
  {
   "cell_type": "code",
   "execution_count": 3,
   "id": "699ec475",
   "metadata": {},
   "outputs": [
    {
     "data": {
      "text/plain": [
       "(1253, 100)"
      ]
     },
     "execution_count": 3,
     "metadata": {},
     "output_type": "execute_result"
    }
   ],
   "source": [
    "X_transformed = selector.transform(X)\n",
    "X_transformed.shape"
   ]
  },
  {
   "cell_type": "markdown",
   "id": "a171933f",
   "metadata": {},
   "source": [
    "Primer 4.b: Problem ranca (primer sa vežbi)"
   ]
  },
  {
   "cell_type": "code",
   "execution_count": 9,
   "id": "6a556159",
   "metadata": {},
   "outputs": [],
   "source": [
    "items = ['hat', 'sunglasses', 'book', 'towel', 'snorkeling kit', 'food']\n",
    "values = {'hat':2, 'sunglasses':8, 'book':3, 'towel':4, 'snorkeling kit': 10, 'food': 1}\n",
    "weights = {'hat':1, 'sunglasses':1, 'book':2, 'towel':3, 'snorkeling kit': 6, 'food': 100}\n",
    "max_weight = 3\n",
    "n = len(items)"
   ]
  },
  {
   "cell_type": "code",
   "execution_count": 10,
   "id": "32cada4a",
   "metadata": {},
   "outputs": [],
   "source": [
    "#X = numpy.array([1]*len(items)).reshape(n, 1)\n",
    "X = numpy.array([v for k, v in values.items()]).reshape(n, 1)\n",
    "labels = numpy.array(items).reshape(n, 1)\n",
    "knapsack_weights = numpy.array([v for k, v in weights.items()])#.reshape(n, 1)"
   ]
  },
  {
   "cell_type": "code",
   "execution_count": 11,
   "id": "0fe838d8",
   "metadata": {},
   "outputs": [],
   "source": [
    "# NOTE: bug in the library: n_samples number is checking whether it's less than total number of elements.\n",
    "# This is correct when the constraint is number of elements.\n",
    "# However, in this case, it represents the max_weight.\n",
    "selector_knapsack = FeatureBasedSelection(max_weight, 'sqrt')\n",
    "X_subset, Y_subset = selector_knapsack.fit_transform(X, y=labels, sample_cost=knapsack_weights)"
   ]
  },
  {
   "cell_type": "code",
   "execution_count": 12,
   "id": "6b2c7ec1",
   "metadata": {},
   "outputs": [
    {
     "data": {
      "text/plain": [
       "array([[8],\n",
       "       [2]])"
      ]
     },
     "execution_count": 12,
     "metadata": {},
     "output_type": "execute_result"
    }
   ],
   "source": [
    "X_subset"
   ]
  },
  {
   "cell_type": "code",
   "execution_count": 13,
   "id": "eceff487",
   "metadata": {},
   "outputs": [
    {
     "name": "stdout",
     "output_type": "stream",
     "text": [
      "Izabrani elementi: \n",
      "Item: sunglasses, cost: 1\n",
      "Item: hat, cost: 1\n"
     ]
    }
   ],
   "source": [
    "print('Izabrani elementi: ')\n",
    "for item in Y_subset:\n",
    "    print('Item: {0}, cost: {1}'.format(item[0], weights[item[0]]))"
   ]
  },
  {
   "cell_type": "code",
   "execution_count": null,
   "id": "672f144c",
   "metadata": {},
   "outputs": [],
   "source": []
  }
 ],
 "metadata": {
  "kernelspec": {
   "display_name": "Python 3 (ipykernel)",
   "language": "python",
   "name": "python3"
  },
  "language_info": {
   "codemirror_mode": {
    "name": "ipython",
    "version": 3
   },
   "file_extension": ".py",
   "mimetype": "text/x-python",
   "name": "python",
   "nbconvert_exporter": "python",
   "pygments_lexer": "ipython3",
   "version": "3.9.12"
  }
 },
 "nbformat": 4,
 "nbformat_minor": 5
}
