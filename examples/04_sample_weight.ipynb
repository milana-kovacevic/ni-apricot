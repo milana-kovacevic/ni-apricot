{
 "cells": [
  {
   "cell_type": "markdown",
   "id": "dd841da1",
   "metadata": {},
   "source": [
    "## Primer 4. Sample weight"
   ]
  },
  {
   "cell_type": "code",
   "execution_count": 1,
   "id": "df1ed8cb",
   "metadata": {},
   "outputs": [],
   "source": [
    "from apricot import FeatureBasedSelection\n",
    "import numpy"
   ]
  },
  {
   "cell_type": "code",
   "execution_count": 2,
   "id": "f61fc8e0",
   "metadata": {},
   "outputs": [
    {
     "ename": "NameError",
     "evalue": "name 'np' is not defined",
     "output_type": "error",
     "traceback": [
      "\u001b[1;31m---------------------------------------------------------------------------\u001b[0m",
      "\u001b[1;31mNameError\u001b[0m                                 Traceback (most recent call last)",
      "Input \u001b[1;32mIn [2]\u001b[0m, in \u001b[0;36m<cell line: 1>\u001b[1;34m()\u001b[0m\n\u001b[1;32m----> 1\u001b[0m X \u001b[38;5;241m=\u001b[39m \u001b[43mnp\u001b[49m\u001b[38;5;241m.\u001b[39mrandom\u001b[38;5;241m.\u001b[39mrandint(\u001b[38;5;241m2\u001b[39m, size\u001b[38;5;241m=\u001b[39m(\u001b[38;5;241m10000\u001b[39m, \u001b[38;5;241m100\u001b[39m))\n\u001b[0;32m      2\u001b[0m sample_cost \u001b[38;5;241m=\u001b[39m numpy\u001b[38;5;241m.\u001b[39mabs(numpy\u001b[38;5;241m.\u001b[39mrandom\u001b[38;5;241m.\u001b[39mrandn(\u001b[38;5;241m10000\u001b[39m))\n\u001b[0;32m      4\u001b[0m selector \u001b[38;5;241m=\u001b[39m FeatureBasedSelection(\u001b[38;5;241m100\u001b[39m, \u001b[38;5;124m'\u001b[39m\u001b[38;5;124msqrt\u001b[39m\u001b[38;5;124m'\u001b[39m)\n",
      "\u001b[1;31mNameError\u001b[0m: name 'np' is not defined"
     ]
    }
   ],
   "source": [
    "X = numpy.random.randint(2, size=(10000, 100))\n",
    "sample_cost = numpy.abs(numpy.random.randn(10000))\n",
    "\n",
    "selector = FeatureBasedSelection(100, 'sqrt')\n",
    "selector.fit(X, sample_cost=sample_cost)"
   ]
  },
  {
   "cell_type": "code",
   "execution_count": null,
   "id": "2d531548",
   "metadata": {},
   "outputs": [],
   "source": [
    "X_transformed = selector.transform(X)\n",
    "X_transformed.shape"
   ]
  }
 ],
 "metadata": {
  "kernelspec": {
   "display_name": "Python 3 (ipykernel)",
   "language": "python",
   "name": "python3"
  },
  "language_info": {
   "codemirror_mode": {
    "name": "ipython",
    "version": 3
   },
   "file_extension": ".py",
   "mimetype": "text/x-python",
   "name": "python",
   "nbconvert_exporter": "python",
   "pygments_lexer": "ipython3",
   "version": "3.9.12"
  }
 },
 "nbformat": 4,
 "nbformat_minor": 5
}
