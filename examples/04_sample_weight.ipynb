{
 "cells": [
  {
   "cell_type": "markdown",
   "id": "345d1a0f",
   "metadata": {},
   "source": [
    "## Primer 4. Sample weight"
   ]
  },
  {
   "cell_type": "markdown",
   "id": "0b2b347c",
   "metadata": {},
   "source": [
    "Ovaj primer demonstrira korišćenje informacije o težini elemenata. Prilikom optimizacije se koriste prosleđene težine (odnosno cena) elemenata umesto uobičajenog ograničenja za kardinalnost elemenata.  <br />\n",
    "Na početku je dat opšti primer korišćenja težina, a zatim je rešen i problem ranca."
   ]
  },
  {
   "cell_type": "code",
   "execution_count": 1,
   "id": "92e4fa9a",
   "metadata": {},
   "outputs": [],
   "source": [
    "from apricot import FeatureBasedSelection\n",
    "import numpy\n",
    "from sklearn import preprocessing"
   ]
  },
  {
   "cell_type": "markdown",
   "id": "f429f51a",
   "metadata": {},
   "source": [
    "Primer 4.a: Slučajno generisan niz podataka i težinama."
   ]
  },
  {
   "cell_type": "code",
   "execution_count": 2,
   "id": "e043aed1",
   "metadata": {},
   "outputs": [
    {
     "data": {
      "text/plain": [
       "<apricot.functions.featureBased.FeatureBasedSelection at 0x156a811ae20>"
      ]
     },
     "execution_count": 2,
     "metadata": {},
     "output_type": "execute_result"
    }
   ],
   "source": [
    "X = numpy.random.randint(2, size=(10000, 100))\n",
    "sample_cost = numpy.abs(numpy.random.randn(10000))\n",
    "\n",
    "selector = FeatureBasedSelection(100, 'sqrt')\n",
    "selector.fit(X, sample_cost=sample_cost)"
   ]
  },
  {
   "cell_type": "code",
   "execution_count": 3,
   "id": "699ec475",
   "metadata": {},
   "outputs": [
    {
     "data": {
      "text/plain": [
       "(1245, 100)"
      ]
     },
     "execution_count": 3,
     "metadata": {},
     "output_type": "execute_result"
    }
   ],
   "source": [
    "X_transformed = selector.transform(X)\n",
    "X_transformed.shape"
   ]
  },
  {
   "cell_type": "markdown",
   "id": "a171933f",
   "metadata": {},
   "source": [
    "Primer 4.b: Problem ranca (primer sa vežbi)"
   ]
  },
  {
   "cell_type": "code",
   "execution_count": 4,
   "id": "6a556159",
   "metadata": {},
   "outputs": [],
   "source": [
    "items = ['hat', 'sunglasses', 'book', 'towel', 'snorkeling kit', 'food']\n",
    "values = {'hat':2, 'sunglasses':8, 'book':3, 'towel':4, 'snorkeling kit': 100, 'food': 1}\n",
    "costs = {'hat':0.1, 'sunglasses':0.1, 'book':0.2, 'towel':0.3, 'snorkeling kit': 0.6, 'food': 10}\n",
    "max_cost = 0.9\n",
    "n = len(items)"
   ]
  },
  {
   "cell_type": "code",
   "execution_count": 5,
   "id": "c4b0ac10",
   "metadata": {},
   "outputs": [],
   "source": [
    "#X = numpy.array([1]*len(items)).reshape(n, 1)\n",
    "X = numpy.array([ values[item] for item in items]).reshape(n, 1)\n",
    "labels = numpy.array(items).reshape(n, 1)\n",
    "knapsack_costs = numpy.array([costs[item] for item in items])#.reshape(n, 1)"
   ]
  },
  {
   "cell_type": "code",
   "execution_count": 6,
   "id": "b2eef883",
   "metadata": {},
   "outputs": [
    {
     "data": {
      "text/plain": [
       "array([ 0.1,  0.1,  0.2,  0.3,  0.6, 10. ])"
      ]
     },
     "execution_count": 6,
     "metadata": {},
     "output_type": "execute_result"
    }
   ],
   "source": [
    "knapsack_costs"
   ]
  },
  {
   "cell_type": "code",
   "execution_count": 7,
   "id": "0fe838d8",
   "metadata": {},
   "outputs": [],
   "source": [
    "selector_knapsack = FeatureBasedSelection(max_cost, 'sqrt')\n",
    "\n",
    "# NOTE: Prema zvanicnoj dokumentaciji, sample_weight parameter je za sada ignorisan. \n",
    "# (\"but included to maintain compatibility with sklearn pipelines\")\n",
    "result = selector_knapsack.fit_transform(X, y=labels, sample_weight=knapsack_costs, sample_cost=knapsack_costs)\n",
    "\n",
    "X_subset = result[0]\n",
    "Y_subset = result[1]"
   ]
  },
  {
   "cell_type": "code",
   "execution_count": 8,
   "id": "2e70a0f6",
   "metadata": {},
   "outputs": [
    {
     "data": {
      "text/plain": [
       "(array([[  8],\n",
       "        [100],\n",
       "        [  2]]),\n",
       " array([['sunglasses'],\n",
       "        ['snorkeling kit'],\n",
       "        ['hat']], dtype='<U14'),\n",
       " array([0.1, 0.6, 0.1]))"
      ]
     },
     "execution_count": 8,
     "metadata": {},
     "output_type": "execute_result"
    }
   ],
   "source": [
    "result"
   ]
  },
  {
   "cell_type": "code",
   "execution_count": 9,
   "id": "eceff487",
   "metadata": {},
   "outputs": [
    {
     "name": "stdout",
     "output_type": "stream",
     "text": [
      "Izabrani elementi : cena: \n",
      "\tsunglasses : 0.1\n",
      "\tsnorkeling kit : 0.6\n",
      "\that : 0.1\n",
      "Ukupna cena:  0.7999999999999999\n",
      "Ukupna vrednost:  110\n"
     ]
    }
   ],
   "source": [
    "print('Izabrani elementi : cena: ')\n",
    "for item in Y_subset:\n",
    "    print('\\t{0} : {1}'.format(item[0], costs[item[0]]))\n",
    "print('Ukupna cena: ', result[2].sum())\n",
    "print('Ukupna vrednost: ', X_subset.sum())"
   ]
  },
  {
   "cell_type": "code",
   "execution_count": null,
   "id": "7ab5a20e",
   "metadata": {},
   "outputs": [],
   "source": []
  }
 ],
 "metadata": {
  "kernelspec": {
   "display_name": "Python 3 (ipykernel)",
   "language": "python",
   "name": "python3"
  },
  "language_info": {
   "codemirror_mode": {
    "name": "ipython",
    "version": 3
   },
   "file_extension": ".py",
   "mimetype": "text/x-python",
   "name": "python",
   "nbconvert_exporter": "python",
   "pygments_lexer": "ipython3",
   "version": "3.9.12"
  }
 },
 "nbformat": 4,
 "nbformat_minor": 5
}
