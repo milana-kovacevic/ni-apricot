{
 "cells": [
  {
   "cell_type": "markdown",
   "id": "345d1a0f",
   "metadata": {},
   "source": [
    "## Primer 4. Sample weight"
   ]
  },
  {
   "cell_type": "code",
   "execution_count": 1,
   "id": "92e4fa9a",
   "metadata": {},
   "outputs": [],
   "source": [
    "from apricot import FeatureBasedSelection\n",
    "import numpy"
   ]
  },
  {
   "cell_type": "code",
   "execution_count": 2,
   "id": "e043aed1",
   "metadata": {},
   "outputs": [
    {
     "data": {
      "text/plain": [
       "<apricot.functions.featureBased.FeatureBasedSelection at 0x252b4f1bc10>"
      ]
     },
     "execution_count": 2,
     "metadata": {},
     "output_type": "execute_result"
    }
   ],
   "source": [
    "X = numpy.random.randint(2, size=(10000, 100))\n",
    "sample_cost = numpy.abs(numpy.random.randn(10000))\n",
    "\n",
    "selector = FeatureBasedSelection(100, 'sqrt')\n",
    "selector.fit(X, sample_cost=sample_cost)"
   ]
  },
  {
   "cell_type": "code",
   "execution_count": 3,
   "id": "699ec475",
   "metadata": {},
   "outputs": [
    {
     "data": {
      "text/plain": [
       "(1290, 100)"
      ]
     },
     "execution_count": 3,
     "metadata": {},
     "output_type": "execute_result"
    }
   ],
   "source": [
    "X_transformed = selector.transform(X)\n",
    "X_transformed.shape"
   ]
  }
 ],
 "metadata": {
  "kernelspec": {
   "display_name": "Python 3 (ipykernel)",
   "language": "python",
   "name": "python3"
  },
  "language_info": {
   "codemirror_mode": {
    "name": "ipython",
    "version": 3
   },
   "file_extension": ".py",
   "mimetype": "text/x-python",
   "name": "python",
   "nbconvert_exporter": "python",
   "pygments_lexer": "ipython3",
   "version": "3.9.12"
  }
 },
 "nbformat": 4,
 "nbformat_minor": 5
}
