{
 "cells": [
  {
   "cell_type": "markdown",
   "id": "6c7826ae",
   "metadata": {},
   "source": [
    "## Primer 2. Feature-based functions"
   ]
  },
  {
   "cell_type": "markdown",
   "id": "51ba5b7e",
   "metadata": {},
   "source": [
    "Funkcije zasnovane na atributima (eng. *feature based functions*) direktno koriste atribute elemenata (ne koriste matricu sličnosti nastalu na osnovu tih atributa). Zbog ovog svojstva, nije im potreban dodatan memorijski prostor $O(n^2)$ za cuvanje matrice sličnosti, te su pogodnije za rad sa velikim skupovima podataka.<br />"
   ]
  },
  {
   "cell_type": "markdown",
   "id": "5a24a56d",
   "metadata": {},
   "source": [
    "Opšti oblik *feature-based* funkcije je: <br />\n",
    "$f(X)=\\displaystyle \\sum_{d=1}^{D} \\omega_{d} \\phi (\\displaystyle \\sum_{x \\in X}  x_{d})$ <br />\n",
    "\n",
    "gde je $f$ funkcija, $X \\subseteq Y$, Y je ceo skup podataka, $d$ je jedan atribut u tom skupu, $D$ je ukupan broj atributa, $\\omega_{d}$ je težina atributa $d$, $x$ je element iz skupa $X$, a $x_{d}$ je vrednost atributa $d$ za element $x$, a $\\phi$ je konkavna funkcija (na primer *sqrt* ili *log*). Funkcija $\\phi$ obezbeđuje svojstvo iščezavanja (eng. *diminishing returns property*). <br />\n",
    "Bitno je naglasiti da za izračunavanje funkcije $f$ nije potreban ceo skup, već samo njegov podskup $X$, što utiče na brzinu njenog izračunavanja."
   ]
  },
  {
   "cell_type": "markdown",
   "id": "cc5fcdeb",
   "metadata": {},
   "source": [
    "Maksimizacijom funkcije zasnovane na atributima izdvaja se podskup elemenata čije su vrednosti atributa velike. Zbog toga se koriste kada svaki atribut predstavlja neki kvalitet/osobinu elementa (gde veća vrednost znaci veću zastupljenost te osobine, a $0$ znači da element nema tu osobinu). Vrednosti atributa ne mogu biti negativne."
   ]
  },
  {
   "cell_type": "markdown",
   "id": "a25024b2",
   "metadata": {},
   "source": [
    "Napomena: Korišćenje funkcija zasnovane na atributima nije uvek najbolje rešenje. Pretpostavka da svaki atribut predstavlja neki smisleni kvalitet elementa ima smisla u nekim slučajevima, ali na primer, nema smisla ukoliko je element slika, gde su njeni atrbuti vrednosti piksela.\n",
    "Moguće je transformisati ulazni skup podataka i tek onda koristiti ove funkcije."
   ]
  },
  {
   "cell_type": "code",
   "execution_count": 1,
   "id": "ed1f542f",
   "metadata": {},
   "outputs": [],
   "source": [
    "from apricot import FeatureBasedSelection\n",
    "from sklearn.datasets import load_iris\n",
    "import numpy as np\n",
    "from matplotlib import pyplot as plt"
   ]
  },
  {
   "cell_type": "markdown",
   "id": "8460937a",
   "metadata": {},
   "source": [
    "https://scikit-learn.org/stable/auto_examples/datasets/plot_iris_dataset.html <br />\n",
    "\"This data sets consists of 3 different types of irises’ (Setosa, Versicolour, and Virginica) petal and sepal length, stored in a 150x4 numpy.ndarray\""
   ]
  },
  {
   "cell_type": "code",
   "execution_count": 2,
   "id": "333e0a7a",
   "metadata": {},
   "outputs": [],
   "source": [
    "X, y = load_iris(return_X_y=True)"
   ]
  },
  {
   "cell_type": "code",
   "execution_count": 3,
   "id": "dbf9fdb0",
   "metadata": {},
   "outputs": [
    {
     "name": "stdout",
     "output_type": "stream",
     "text": [
      "X.shape: (150, 4)\n",
      "y.shape: (150,)\n"
     ]
    }
   ],
   "source": [
    "print('X.shape:', X.shape)\n",
    "print('y.shape:', y.shape)"
   ]
  },
  {
   "cell_type": "code",
   "execution_count": 4,
   "id": "dd66f3eb",
   "metadata": {},
   "outputs": [
    {
     "name": "stdout",
     "output_type": "stream",
     "text": [
      "Jedinstvene vrednosti y: [0 1 2]\n"
     ]
    }
   ],
   "source": [
    "print('Jedinstvene vrednosti y:', np.unique(y))"
   ]
  },
  {
   "cell_type": "code",
   "execution_count": 5,
   "id": "60cd6a67",
   "metadata": {},
   "outputs": [],
   "source": [
    "n_samples = 10"
   ]
  },
  {
   "cell_type": "code",
   "execution_count": 6,
   "id": "ec55bc89",
   "metadata": {},
   "outputs": [],
   "source": [
    "selection = FeatureBasedSelection(n_samples, 'sqrt', optimizer='two-stage')\n",
    "X_subset = selection.fit_transform(X)"
   ]
  },
  {
   "cell_type": "code",
   "execution_count": 7,
   "id": "39246653",
   "metadata": {},
   "outputs": [
    {
     "name": "stdout",
     "output_type": "stream",
     "text": [
      "X_subset.shape: (10, 4)\n"
     ]
    }
   ],
   "source": [
    "print('X_subset.shape:', X_subset.shape)"
   ]
  },
  {
   "cell_type": "code",
   "execution_count": 8,
   "id": "b2bc7c87",
   "metadata": {},
   "outputs": [
    {
     "data": {
      "text/plain": [
       "array([[7.7, 3.8, 6.7, 2.2],\n",
       "       [7.9, 3.8, 6.4, 2. ],\n",
       "       [7.2, 3.6, 6.1, 2.5],\n",
       "       [7.7, 2.6, 6.9, 2.3],\n",
       "       [7.6, 3. , 6.6, 2.1],\n",
       "       [7.7, 3. , 6.1, 2.3],\n",
       "       [7.7, 2.8, 6.7, 2. ],\n",
       "       [6.7, 3.3, 5.7, 2.5],\n",
       "       [6.3, 3.3, 6. , 2.5],\n",
       "       [6.8, 3.2, 5.9, 2.3]])"
      ]
     },
     "execution_count": 8,
     "metadata": {},
     "output_type": "execute_result"
    }
   ],
   "source": [
    "X_subset"
   ]
  },
  {
   "cell_type": "code",
   "execution_count": 9,
   "id": "cbb0ef60",
   "metadata": {},
   "outputs": [
    {
     "data": {
      "text/plain": [
       "4.7875"
      ]
     },
     "execution_count": 9,
     "metadata": {},
     "output_type": "execute_result"
    }
   ],
   "source": [
    "X_subset.mean()"
   ]
  },
  {
   "cell_type": "code",
   "execution_count": 10,
   "id": "15a5783a",
   "metadata": {},
   "outputs": [
    {
     "data": {
      "text/plain": [
       "3.4644999999999997"
      ]
     },
     "execution_count": 10,
     "metadata": {},
     "output_type": "execute_result"
    }
   ],
   "source": [
    "X.mean()"
   ]
  }
 ],
 "metadata": {
  "kernelspec": {
   "display_name": "Python 3 (ipykernel)",
   "language": "python",
   "name": "python3"
  },
  "language_info": {
   "codemirror_mode": {
    "name": "ipython",
    "version": 3
   },
   "file_extension": ".py",
   "mimetype": "text/x-python",
   "name": "python",
   "nbconvert_exporter": "python",
   "pygments_lexer": "ipython3",
   "version": "3.9.12"
  }
 },
 "nbformat": 4,
 "nbformat_minor": 5
}
