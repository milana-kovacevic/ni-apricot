{
 "cells": [
  {
   "cell_type": "markdown",
   "id": "6c7826ae",
   "metadata": {},
   "source": [
    "## Primer 2. Feature-based functions"
   ]
  },
  {
   "cell_type": "markdown",
   "id": "51ba5b7e",
   "metadata": {},
   "source": [
    "Funkcije zasnovane na atributima (eng. *feature based functions*) direktno koriste atribute elemenata (ne koriste matricu sličnosti nastalu na osnovu tih atributa). Zbog ovog svojstva, nije im potreban dodatan memorijski prostor $O(n^2)$ za cuvanje matrice sličnosti, te su pogodnije za rad sa velikim skupovima podataka.<br />"
   ]
  },
  {
   "cell_type": "markdown",
   "id": "5a24a56d",
   "metadata": {},
   "source": [
    "Opšti oblik *feature-based* funkcije je: <br />\n",
    "$f(X)=\\displaystyle \\sum_{d=1}^{D} \\omega_{d} \\phi (\\displaystyle \\sum_{x \\in X}  x_{d})$ <br />\n",
    "\n",
    "gde je $f$ funkcija, $X \\subseteq Y$, Y je ceo skup podataka, $d$ je jedan atribut u tom skupu, $D$ je ukupan broj atributa, $\\omega_{d}$ je težina atributa $d$, $x$ je element iz skupa $X$, a $x_{d}$ je vrednost atributa $d$ za element $x$, a $\\phi$ je konveksna funkcija (na primer *sqrt* ili *log*). Funkcija $\\phi$ obezbeđuje svojstvo iščezavanja (eng. *diminishing returns property*). <br />\n",
    "Bitno je naglasiti da za izračunavanje funkcije $f$ nije potreban ceo skup, već samo njegov podskup $X$, što utiče na brzinu njenog izračunavanja."
   ]
  },
  {
   "cell_type": "markdown",
   "id": "cc5fcdeb",
   "metadata": {},
   "source": [
    "Maksimizacijom funkcije zasnovane na atributima izdvaja se podskup elemenata čije su vrednosti atributa velike. Zbog toga se koriste kada svaki atribut predstavlja neki kvalitet/osobinu elementa (gde veća vrednost znaci veću zastupljenost te osobine, a $0$ znači da element nema tu osobinu). Vrednosti atributa ne mogu biti negativne."
   ]
  },
  {
   "cell_type": "markdown",
   "id": "a25024b2",
   "metadata": {},
   "source": [
    "Napomena: Korišćenje funkcija zasnovane na atributima nije uvek najbolje rešenje. Pretpostavka da svaki atribut predstavlja neki smisleni kvalitet elementa ima smisla u nekim slučajevima, ali na primer, nema smisla ukoliko je element slika, gde su njeni atrbuti vrednosti piksela.\n",
    "Moguće je transformisati ulazni skup podataka i tek onda koristiti ove funkcije."
   ]
  },
  {
   "cell_type": "code",
   "execution_count": 1,
   "id": "ed1f542f",
   "metadata": {},
   "outputs": [],
   "source": [
    "from apricot import FeatureBasedSelection\n",
    "from sklearn.datasets import load_iris\n",
    "import numpy as np\n",
    "from matplotlib import pyplot as plt"
   ]
  },
  {
   "cell_type": "markdown",
   "id": "8460937a",
   "metadata": {},
   "source": [
    "https://scikit-learn.org/stable/auto_examples/datasets/plot_iris_dataset.html <br />\n",
    "\"This data sets consists of 3 different types of irises’ (Setosa, Versicolour, and Virginica) petal and sepal length, stored in a 150x4 numpy.ndarray\""
   ]
  },
  {
   "cell_type": "code",
   "execution_count": 2,
   "id": "333e0a7a",
   "metadata": {},
   "outputs": [],
   "source": [
    "X, y = load_iris(return_X_y=True)"
   ]
  },
  {
   "cell_type": "code",
   "execution_count": 3,
   "id": "dbf9fdb0",
   "metadata": {},
   "outputs": [
    {
     "name": "stdout",
     "output_type": "stream",
     "text": [
      "X.shape: (150, 4)\n",
      "y.shape: (150,)\n"
     ]
    }
   ],
   "source": [
    "print('X.shape:', X.shape)\n",
    "print('y.shape:', y.shape)"
   ]
  },
  {
   "cell_type": "code",
   "execution_count": 4,
   "id": "dd66f3eb",
   "metadata": {},
   "outputs": [
    {
     "name": "stdout",
     "output_type": "stream",
     "text": [
      "Jedinstvene vrednosti y: [0 1 2]\n"
     ]
    }
   ],
   "source": [
    "print('Jedinstvene vrednosti y:', np.unique(y))"
   ]
  },
  {
   "cell_type": "code",
   "execution_count": 5,
   "id": "60cd6a67",
   "metadata": {},
   "outputs": [],
   "source": [
    "n_samples = 10"
   ]
  },
  {
   "cell_type": "code",
   "execution_count": 6,
   "id": "ec55bc89",
   "metadata": {},
   "outputs": [],
   "source": [
    "selection_sqrt = FeatureBasedSelection(n_samples, 'sqrt', optimizer='two-stage')\n",
    "X_subset_sqrt = selection_sqrt.fit_transform(X)"
   ]
  },
  {
   "cell_type": "code",
   "execution_count": 7,
   "id": "39246653",
   "metadata": {},
   "outputs": [
    {
     "name": "stdout",
     "output_type": "stream",
     "text": [
      "X_subset_sqrt.shape: (10, 4)\n"
     ]
    }
   ],
   "source": [
    "print('X_subset_sqrt.shape:', X_subset_sqrt.shape)"
   ]
  },
  {
   "cell_type": "code",
   "execution_count": 8,
   "id": "cbb0ef60",
   "metadata": {},
   "outputs": [
    {
     "data": {
      "text/plain": [
       "4.7875"
      ]
     },
     "execution_count": 8,
     "metadata": {},
     "output_type": "execute_result"
    }
   ],
   "source": [
    "X_subset_sqrt.mean()"
   ]
  },
  {
   "cell_type": "code",
   "execution_count": 9,
   "id": "15a5783a",
   "metadata": {},
   "outputs": [
    {
     "data": {
      "text/plain": [
       "3.4644999999999997"
      ]
     },
     "execution_count": 9,
     "metadata": {},
     "output_type": "execute_result"
    }
   ],
   "source": [
    "X.mean()"
   ]
  },
  {
   "cell_type": "markdown",
   "id": "14d3965a",
   "metadata": {},
   "source": [
    "U nastavku koristim drugu funkciju sličnosti (log) a zatim poredim rezultat sa prethodnim. "
   ]
  },
  {
   "cell_type": "code",
   "execution_count": 10,
   "id": "b6049aa9",
   "metadata": {},
   "outputs": [],
   "source": [
    "selection_log = FeatureBasedSelection(n_samples, 'log', optimizer='two-stage')\n",
    "X_subset_log = selection_log.fit_transform(X)"
   ]
  },
  {
   "cell_type": "code",
   "execution_count": 11,
   "id": "543bfd9b",
   "metadata": {},
   "outputs": [],
   "source": [
    "# kreiram skupove za izabrane elemente kako bih ih poredila posle.\n",
    "X_subset_log_set = set()\n",
    "for i in X_subset_log:\n",
    "    X_subset_log_set.add(tuple(i))\n",
    "    \n",
    "X_subset_sqrt_set = set()\n",
    "for i in X_subset_sqrt:\n",
    "    X_subset_sqrt_set.add(tuple(i))"
   ]
  },
  {
   "cell_type": "code",
   "execution_count": 12,
   "id": "4a2066ff",
   "metadata": {},
   "outputs": [
    {
     "name": "stdout",
     "output_type": "stream",
     "text": [
      "Izabrani podskupovi koristeći funkcije sqrt i log su isti i iznose:\n",
      " [[7.7 3.8 6.7 2.2]\n",
      " [7.9 3.8 6.4 2. ]\n",
      " [7.2 3.6 6.1 2.5]\n",
      " [7.7 2.6 6.9 2.3]\n",
      " [7.6 3.  6.6 2.1]\n",
      " [7.7 3.  6.1 2.3]\n",
      " [7.7 2.8 6.7 2. ]\n",
      " [6.7 3.3 5.7 2.5]\n",
      " [6.3 3.3 6.  2.5]\n",
      " [6.8 3.2 5.9 2.3]]\n"
     ]
    }
   ],
   "source": [
    "if np.alltrue(X_subset_log_set == X_subset_sqrt_set):\n",
    "    print('Izabrani podskupovi koristeći funkcije sqrt i log su isti i iznose:\\n', X_subset_sqrt)\n",
    "else:\n",
    "    print('Izabrani podskupovi koristeći funkcije sqrt i log se razlikuju.') \n",
    "    print('Podskup dobijen koriscenjem funkcije sqrt je:\\n', X_subset_log)\n",
    "    print('Podskup dobijen koriscenjem funkcije log je:\\n', X_subset_sqrt)"
   ]
  },
  {
   "cell_type": "markdown",
   "id": "c97f26c8",
   "metadata": {},
   "source": [
    "U nastavku koristim trecu funkciju sličnosti (sigmoidnu funkciju):"
   ]
  },
  {
   "cell_type": "code",
   "execution_count": 13,
   "id": "1290326a",
   "metadata": {},
   "outputs": [],
   "source": [
    "selection_sigmoid = FeatureBasedSelection(n_samples, 'sigmoid', optimizer='two-stage')\n",
    "X_subset_sigmoid = selection_sigmoid.fit_transform(X)"
   ]
  },
  {
   "cell_type": "code",
   "execution_count": 14,
   "id": "e7230d8d",
   "metadata": {},
   "outputs": [],
   "source": [
    "X_subset_sigmoid_set = set()\n",
    "for i in X_subset_sigmoid:\n",
    "    X_subset_sigmoid_set.add(tuple(i))"
   ]
  },
  {
   "cell_type": "code",
   "execution_count": 15,
   "id": "f717c2f4",
   "metadata": {},
   "outputs": [
    {
     "name": "stdout",
     "output_type": "stream",
     "text": [
      "Izabrani podskupovi koristeći funkcije sqrt i sigmoid se razlikuju.\n",
      "Podskup dobijen koriscenjem funkcije sigmoid je:\n",
      " [[7.7 3.8 6.7 2.2]\n",
      " [7.2 3.6 6.1 2.5]\n",
      " [6.7 3.3 5.7 2.5]\n",
      " [6.3 3.3 6.  2.5]\n",
      " [7.9 3.8 6.4 2. ]\n",
      " [6.3 3.4 5.6 2.4]\n",
      " [7.7 3.  6.1 2.3]\n",
      " [6.8 3.2 5.9 2.3]\n",
      " [6.7 3.1 5.6 2.4]\n",
      " [6.9 3.2 5.7 2.3]]\n"
     ]
    }
   ],
   "source": [
    "if np.alltrue(X_subset_sigmoid_set == X_subset_sqrt_set):\n",
    "    print('Izabrani podskupovi koristeći funkcije sqrt i log su isti.')\n",
    "else:\n",
    "    print('Izabrani podskupovi koristeći funkcije sqrt i sigmoid se razlikuju.')\n",
    "    print('Podskup dobijen koriscenjem funkcije sigmoid je:\\n', X_subset_sigmoid)"
   ]
  }
 ],
 "metadata": {
  "kernelspec": {
   "display_name": "Python 3 (ipykernel)",
   "language": "python",
   "name": "python3"
  },
  "language_info": {
   "codemirror_mode": {
    "name": "ipython",
    "version": 3
   },
   "file_extension": ".py",
   "mimetype": "text/x-python",
   "name": "python",
   "nbconvert_exporter": "python",
   "pygments_lexer": "ipython3",
   "version": "3.9.12"
  }
 },
 "nbformat": 4,
 "nbformat_minor": 5
}
