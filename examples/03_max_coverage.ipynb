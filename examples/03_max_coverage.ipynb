{
 "cells": [
  {
   "cell_type": "markdown",
   "id": "586a45c6",
   "metadata": {},
   "source": [
    "## Primer 3. Maximum Coverage"
   ]
  },
  {
   "cell_type": "markdown",
   "id": "0bd07db6",
   "metadata": {},
   "source": [
    "Funkcije maksimalne pokrivenosti skupa (eng. *maximum coverage functions*) imaju cilj da maksimizuju broj atributa elemenata razlicitih od 0.\n",
    "Podaci su predstavljeni u vidu binarne matrice gde $1$ znači da je stavka prisutna u elementu $x \\in X$, a $0$ da nije.\n",
    "Ove funkcije su korisne kada je prostor variabli valik, a svaki element skupa sadrži samo mali podskup njih - sto je čest slučaj kada se analiziraju tekstualni podaci, gde su variable reci.\n",
    "\n",
    "Funckija maksimalne pokrivenosti je funkcija zasnovana na atributima (eng *feature based function*), gde je funkcija $\\phi$ *minimum*.\n",
    "Napomena: Sve vrednosti skupa podataka moraju biti binarne da bi apricot selektor radio."
   ]
  },
  {
   "cell_type": "markdown",
   "id": "d3c4ec8b",
   "metadata": {},
   "source": [
    "Opšti oblik funkcije pokrivenosti je: <br />\n",
    "$f(X)=\\displaystyle \\sum_{d=1}^{D} min(\\displaystyle \\sum_{i=1}^{N} X_{i,d},1)$ <br />\n",
    "\n",
    "gde je $f$ funkcija nad podskupom $X$ koji ima $N$ elemenata i $D$ dimenzija."
   ]
  },
  {
   "cell_type": "markdown",
   "id": "a0748327",
   "metadata": {},
   "source": [
    "Naredni primer je primer iz Apricot zvanične dokumentacije. <br />\n",
    "Optimizujemo *max coverage* funkciju nad skupom od 11228 novinskih članaka *[reuters](https://keras.io/api/datasets/reuters/)*. Svaki novinski članak je sačuvan kao lista indeksa reči. Indeks je dodeljen reči u zavisnosti od njene učestalosti u kompletnom skupu reči. Na primer, indeksom 3 je određena treća najčešća reč iz skupa.  <br />\n",
    "\n",
    "*Maximum coverage* funkcija računa broj jedinstvenih reči u tekstu. Rezultujući podskup $X$ sadrži $n$ izdvojenih novinskih članaka, tako da je broj jedinstvenih reči u njima najveći mogući."
   ]
  },
  {
   "cell_type": "code",
   "execution_count": 1,
   "id": "1f957507",
   "metadata": {},
   "outputs": [],
   "source": [
    "from apricot import MaxCoverageSelection\n",
    "from keras.datasets import reuters\n",
    "import numpy as np"
   ]
  },
  {
   "cell_type": "code",
   "execution_count": 2,
   "id": "024c1fcb",
   "metadata": {},
   "outputs": [],
   "source": [
    "(X_, _), (_, _) = reuters.load_data(num_words=5000)"
   ]
  },
  {
   "cell_type": "code",
   "execution_count": 3,
   "id": "660f73c1",
   "metadata": {},
   "outputs": [
    {
     "name": "stdout",
     "output_type": "stream",
     "text": [
      "X_.shape:  (8982,)\n"
     ]
    }
   ],
   "source": [
    "print('X_.shape: ', X_.shape)"
   ]
  },
  {
   "cell_type": "code",
   "execution_count": 4,
   "id": "a3ef0c06",
   "metadata": {},
   "outputs": [
    {
     "data": {
      "text/plain": [
       "array([list([1, 2, 2, 8, 43, 10, 447, 5, 25, 207, 270, 5, 3095, 111, 16, 369, 186, 90, 67, 7, 89, 5, 19, 102, 6, 19, 124, 15, 90, 67, 84, 22, 482, 26, 7, 48, 4, 49, 8, 864, 39, 209, 154, 6, 151, 6, 83, 11, 15, 22, 155, 11, 15, 7, 48, 9, 4579, 1005, 504, 6, 258, 6, 272, 11, 15, 22, 134, 44, 11, 15, 16, 8, 197, 1245, 90, 67, 52, 29, 209, 30, 32, 132, 6, 109, 15, 17, 12])],\n",
       "      dtype=object)"
      ]
     },
     "execution_count": 4,
     "metadata": {},
     "output_type": "execute_result"
    }
   ],
   "source": [
    "X_[:1]"
   ]
  },
  {
   "cell_type": "code",
   "execution_count": 5,
   "id": "c69bb7a1",
   "metadata": {},
   "outputs": [],
   "source": [
    "# Učitavam mapiranje reči sa njihovim indeksima.\n",
    "word_map = reuters.get_word_index(path='reuters_word_index.json')\n",
    "\n",
    "# Modifikujem mapu tako da je mapiranje indeks -> reč.\n",
    "word_map_inverse = {v: k for k, v in word_map.items()}"
   ]
  },
  {
   "cell_type": "code",
   "execution_count": 6,
   "id": "6dcc1ad2",
   "metadata": {},
   "outputs": [
    {
     "name": "stdout",
     "output_type": "stream",
     "text": [
      "the of of mln loss for plc said at only ended said commonwealth could 1 traders now april 0 a after said from 1985 and from foreign 000 april 0 prices its account year a but in this mln home an states earlier and rise and revs vs 000 its 16 vs 000 a but 3 psbr oils several and shareholders and dividend vs 000 its all 4 vs 000 1 mln agreed largely april 0 are 2 states will billion total and against 000 pct dlrs "
     ]
    }
   ],
   "source": [
    "# Ispisujem reci koje pripadaju prvom članku učitanog skupa podataka.\n",
    "for word_index in X_[:1][0]:\n",
    "    #print(word_index)\n",
    "    print(word_map_inverse[word_index], end=\" \")"
   ]
  },
  {
   "cell_type": "code",
   "execution_count": null,
   "id": "c25f3cc5",
   "metadata": {},
   "outputs": [],
   "source": []
  },
  {
   "cell_type": "markdown",
   "id": "39217140",
   "metadata": {},
   "source": [
    "Generišem binarnu matricu $X$ na osnovu učitanih podataka.  <br />\n",
    "Vrste nove matrica $X$ označavaju novinske članke, indeks reda predstavlja reč, tj. mapirani indeks reči.\n",
    "Vrednost $X[i][j]$ $0$ ili $1$ označava da li se data $j$ nalazi u članku $i$ ili ne."
   ]
  },
  {
   "cell_type": "code",
   "execution_count": 7,
   "id": "f7f1405c",
   "metadata": {},
   "outputs": [],
   "source": [
    "X = np.zeros((X_.shape[0], max(map(max, X_))+1))\n",
    "for i, x in enumerate(X_):\n",
    "    X[i][x] = 1"
   ]
  },
  {
   "cell_type": "code",
   "execution_count": 8,
   "id": "ba2a5505",
   "metadata": {},
   "outputs": [
    {
     "data": {
      "text/plain": [
       "4992"
      ]
     },
     "execution_count": 8,
     "metadata": {},
     "output_type": "execute_result"
    }
   ],
   "source": [
    "max(max(X_))"
   ]
  },
  {
   "cell_type": "code",
   "execution_count": 9,
   "id": "336cb2cc",
   "metadata": {},
   "outputs": [
    {
     "data": {
      "text/plain": [
       "array([0., 1., 1., ..., 0., 0., 0.])"
      ]
     },
     "execution_count": 9,
     "metadata": {},
     "output_type": "execute_result"
    }
   ],
   "source": [
    "X[0]"
   ]
  },
  {
   "cell_type": "code",
   "execution_count": 10,
   "id": "55f5bca0",
   "metadata": {},
   "outputs": [
    {
     "name": "stdout",
     "output_type": "stream",
     "text": [
      "X.shape:  (8982, 5000)\n"
     ]
    }
   ],
   "source": [
    "print('X.shape: ', X.shape)"
   ]
  },
  {
   "cell_type": "code",
   "execution_count": 11,
   "id": "67f573dc",
   "metadata": {},
   "outputs": [],
   "source": [
    "# Iskoristicu posebnu podrsku za retke matrice\n",
    "from scipy.sparse import csr_matrix\n",
    "\n",
    "X_sparse = csr_matrix(X)"
   ]
  },
  {
   "cell_type": "code",
   "execution_count": 12,
   "id": "51d33861",
   "metadata": {},
   "outputs": [],
   "source": [
    "n = 250\n",
    "model = MaxCoverageSelection(n, optimizer='naive')\n",
    "X_transformed = model.fit_transform(X_sparse)"
   ]
  },
  {
   "cell_type": "code",
   "execution_count": 13,
   "id": "e368177d",
   "metadata": {},
   "outputs": [
    {
     "name": "stdout",
     "output_type": "stream",
     "text": [
      "Ukupan broj izdvojenih jedinstvenih reci:  4949.0\n"
     ]
    }
   ],
   "source": [
    "print('Ukupan broj izdvojenih jedinstvenih reci: ', model.gains[:n].sum())"
   ]
  },
  {
   "cell_type": "markdown",
   "id": "702e4110",
   "metadata": {},
   "source": [
    "Koriscenjem podrske za retke matrice optimizacija se ubrzava skoro 3x."
   ]
  },
  {
   "cell_type": "code",
   "execution_count": 14,
   "id": "3efbc12e",
   "metadata": {},
   "outputs": [
    {
     "data": {
      "text/plain": [
       "(250, 5000)"
      ]
     },
     "execution_count": 14,
     "metadata": {},
     "output_type": "execute_result"
    }
   ],
   "source": [
    "X_transformed.shape"
   ]
  },
  {
   "cell_type": "code",
   "execution_count": 15,
   "id": "9a6806f1",
   "metadata": {},
   "outputs": [
    {
     "data": {
      "text/plain": [
       "(250, 5000)"
      ]
     },
     "execution_count": 15,
     "metadata": {},
     "output_type": "execute_result"
    }
   ],
   "source": [
    "# Kreiram standardnu matricu od CSR matrice.\n",
    "X_transformed_dense = X_transformed.todense()\n",
    "X_transformed_dense.shape"
   ]
  },
  {
   "cell_type": "markdown",
   "id": "62fc258b",
   "metadata": {},
   "source": [
    "Ispisujem skup jedinstvenih reči iz izabranih n članaka."
   ]
  },
  {
   "cell_type": "code",
   "execution_count": 16,
   "id": "6ea6d4b1",
   "metadata": {},
   "outputs": [
    {
     "name": "stdout",
     "output_type": "stream",
     "text": [
      "Ukupan broj jedinstvenih reči u rezultujućem skupu:  4949\n"
     ]
    }
   ],
   "source": [
    "selected_unique_word_indices = set()\n",
    "for i in range(X_transformed_dense.shape[0]):\n",
    "    for j in range(X_transformed_dense.shape[1]):\n",
    "        if X_transformed_dense[i, j] == 1:\n",
    "            selected_unique_word_indices.add(j)\n",
    "print('Ukupan broj jedinstvenih reči u rezultujućem skupu: ', len(selected_unique_word_indices))"
   ]
  },
  {
   "cell_type": "code",
   "execution_count": null,
   "id": "934c9761",
   "metadata": {},
   "outputs": [],
   "source": []
  }
 ],
 "metadata": {
  "kernelspec": {
   "display_name": "Python 3 (ipykernel)",
   "language": "python",
   "name": "python3"
  },
  "language_info": {
   "codemirror_mode": {
    "name": "ipython",
    "version": 3
   },
   "file_extension": ".py",
   "mimetype": "text/x-python",
   "name": "python",
   "nbconvert_exporter": "python",
   "pygments_lexer": "ipython3",
   "version": "3.9.12"
  }
 },
 "nbformat": 4,
 "nbformat_minor": 5
}
