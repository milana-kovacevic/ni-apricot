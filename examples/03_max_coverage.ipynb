{
 "cells": [
  {
   "cell_type": "markdown",
   "id": "586a45c6",
   "metadata": {},
   "source": [
    "## Primer 3. Maximum Coverage"
   ]
  },
  {
   "cell_type": "markdown",
   "id": "0bd07db6",
   "metadata": {},
   "source": [
    "Funkcije maksimalne pokrivenosti skupa (eng. *maximum coverage functions*) imaju cilj da maksimizuju broj atributa elemenata razlicitih od 0.\n",
    "Podaci su predstavljeni u vidu binarne matrice gde $1$ znači da je stavka prisutna u elementu $x \\in X$, a $0$ da nije.\n",
    "Ove funkcije su korisne kada je prostor variabli valik, a svaki element skupa sadrži samo mali podskup njih - sto je čest slučaj kada se analiziraju tekstualni podaci, gde su variable reci.\n",
    "\n",
    "Funckija maksimalne pokrivenosti je funkcija zasnovana na atributima (eng *feature based function*), gde je funkcija $\\phi$ *minimum*.\n",
    "Napomena: Sve vrednosti skupa podataka moraju biti binarne da bi apricot selektor radio."
   ]
  },
  {
   "cell_type": "markdown",
   "id": "d3c4ec8b",
   "metadata": {},
   "source": [
    "Opšti oblik funkcije pokrivenosti je: <br />\n",
    "$f(X)=\\displaystyle \\sum_{d=1}^{D} min(\\displaystyle \\sum_{i=1}^{N} X_{i,d},1)$ <br />\n",
    "\n",
    "gde je $f$ funkcija nad podskupom $X$ koji ima $N$ elemenata i $D$ dimenzija."
   ]
  },
  {
   "cell_type": "markdown",
   "id": "a0748327",
   "metadata": {},
   "source": [
    "Naredni primer je primer iz Apricot zvanične dokumentacije. <br />\n",
    "Optimizujemo *max coverage* funkciju nad tekstualnim podacima, koja računa broj jedinstvenih reči u tekstu."
   ]
  },
  {
   "cell_type": "code",
   "execution_count": 1,
   "id": "1f957507",
   "metadata": {},
   "outputs": [],
   "source": [
    "from apricot import MaxCoverageSelection\n",
    "from keras.datasets import reuters\n",
    "import numpy as np"
   ]
  },
  {
   "cell_type": "markdown",
   "id": "ddf123d4",
   "metadata": {},
   "source": [
    "Dataset *reuters* : https://keras.io/api/datasets/reuters/ <br />\n",
    "\"This is a dataset of 11,228 newswires from Reuters, labeled over 46 topics.\" <br />\n",
    "\"Each newswire is encoded as a list of word indexes (integers). For convenience, words are indexed by overall frequency in the dataset, so that for instance the integer \"3\" encodes the 3rd most frequent word in the data.\""
   ]
  },
  {
   "cell_type": "code",
   "execution_count": 2,
   "id": "024c1fcb",
   "metadata": {},
   "outputs": [],
   "source": [
    "(X_, _), (_, _) = reuters.load_data(num_words=5000)"
   ]
  },
  {
   "cell_type": "code",
   "execution_count": 3,
   "id": "a3ef0c06",
   "metadata": {},
   "outputs": [
    {
     "data": {
      "text/plain": [
       "array([list([1, 2, 2, 8, 43, 10, 447, 5, 25, 207, 270, 5, 3095, 111, 16, 369, 186, 90, 67, 7, 89, 5, 19, 102, 6, 19, 124, 15, 90, 67, 84, 22, 482, 26, 7, 48, 4, 49, 8, 864, 39, 209, 154, 6, 151, 6, 83, 11, 15, 22, 155, 11, 15, 7, 48, 9, 4579, 1005, 504, 6, 258, 6, 272, 11, 15, 22, 134, 44, 11, 15, 16, 8, 197, 1245, 90, 67, 52, 29, 209, 30, 32, 132, 6, 109, 15, 17, 12])],\n",
       "      dtype=object)"
      ]
     },
     "execution_count": 3,
     "metadata": {},
     "output_type": "execute_result"
    }
   ],
   "source": [
    "X_[:1]"
   ]
  },
  {
   "cell_type": "code",
   "execution_count": 4,
   "id": "660f73c1",
   "metadata": {},
   "outputs": [
    {
     "name": "stdout",
     "output_type": "stream",
     "text": [
      "X_.shape:  (8982,)\n"
     ]
    }
   ],
   "source": [
    "print('X_.shape: ', X_.shape)"
   ]
  },
  {
   "cell_type": "code",
   "execution_count": 5,
   "id": "f7f1405c",
   "metadata": {},
   "outputs": [],
   "source": [
    "# Generisem binarnu matricu X\n",
    "X = np.zeros((X_.shape[0], max(map(max, X_))+1))\n",
    "for i, x in enumerate(X_):\n",
    "    X[i][x] = 1"
   ]
  },
  {
   "cell_type": "code",
   "execution_count": 6,
   "id": "ba2a5505",
   "metadata": {},
   "outputs": [
    {
     "data": {
      "text/plain": [
       "4992"
      ]
     },
     "execution_count": 6,
     "metadata": {},
     "output_type": "execute_result"
    }
   ],
   "source": [
    "max(max(X_))"
   ]
  },
  {
   "cell_type": "code",
   "execution_count": 7,
   "id": "55f5bca0",
   "metadata": {},
   "outputs": [
    {
     "name": "stdout",
     "output_type": "stream",
     "text": [
      "X.shape:  (8982, 5000)\n"
     ]
    }
   ],
   "source": [
    "print('X.shape: ', X.shape)"
   ]
  },
  {
   "cell_type": "code",
   "execution_count": 8,
   "id": "67f573dc",
   "metadata": {},
   "outputs": [],
   "source": [
    "# Iskoristicu posebnu podrsku za retke matrice\n",
    "from scipy.sparse import csr_matrix\n",
    "\n",
    "X_sparse = csr_matrix(X)"
   ]
  },
  {
   "cell_type": "code",
   "execution_count": 14,
   "id": "51d33861",
   "metadata": {},
   "outputs": [],
   "source": [
    "model = MaxCoverageSelection(250, optimizer='naive')\n",
    "X_transformed = model.fit_transform(X_sparse)"
   ]
  },
  {
   "cell_type": "markdown",
   "id": "702e4110",
   "metadata": {},
   "source": [
    "Koriscenjem podrske za retke matrice optimizacija se ubrzava skoro 3x."
   ]
  },
  {
   "cell_type": "code",
   "execution_count": 10,
   "id": "3efbc12e",
   "metadata": {},
   "outputs": [
    {
     "data": {
      "text/plain": [
       "(250, 5000)"
      ]
     },
     "execution_count": 10,
     "metadata": {},
     "output_type": "execute_result"
    }
   ],
   "source": [
    "X_transformed.shape"
   ]
  },
  {
   "cell_type": "code",
   "execution_count": 11,
   "id": "9a6806f1",
   "metadata": {},
   "outputs": [
    {
     "data": {
      "text/plain": [
       "<250x5000 sparse matrix of type '<class 'numpy.float64'>'\n",
       "\twith 46714 stored elements in Compressed Sparse Row format>"
      ]
     },
     "execution_count": 11,
     "metadata": {},
     "output_type": "execute_result"
    }
   ],
   "source": [
    "X_transformed"
   ]
  }
 ],
 "metadata": {
  "kernelspec": {
   "display_name": "Python 3 (ipykernel)",
   "language": "python",
   "name": "python3"
  },
  "language_info": {
   "codemirror_mode": {
    "name": "ipython",
    "version": 3
   },
   "file_extension": ".py",
   "mimetype": "text/x-python",
   "name": "python",
   "nbconvert_exporter": "python",
   "pygments_lexer": "ipython3",
   "version": "3.9.12"
  }
 },
 "nbformat": 4,
 "nbformat_minor": 5
}
