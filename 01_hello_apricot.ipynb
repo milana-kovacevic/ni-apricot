{
 "cells": [
  {
   "cell_type": "markdown",
   "id": "93847a3c",
   "metadata": {},
   "source": [
    "1. Install package from https://github.com/jmschrei/apricot"
   ]
  },
  {
   "cell_type": "code",
   "execution_count": null,
   "id": "f1ee8c35",
   "metadata": {},
   "outputs": [],
   "source": [
    "import numpy\n",
    "import scipy\n",
    "import numba\n",
    "import tqdm\n",
    "import sklearn\n",
    "\n",
    "print('The numpy version is {}.'.format(numpy.__version__))\n",
    "print('The scipy version is {}.'.format(scipy.__version__))\n",
    "print('The nltk version is {}.'.format(nltk.__version__))\n",
    "print('The numba version is {}.'.format(numba.__version__))\n",
    "print('The tqdm version is {}.'.format(tqdm.__version__))\n",
    "print('The sklearn version is {}.'.format(sklearn.__version__))\n",
    "# Requirements are met!"
   ]
  },
  {
   "cell_type": "code",
   "execution_count": null,
   "id": "1cb67413",
   "metadata": {},
   "outputs": [],
   "source": [
    "#needed\n",
    "# conda install -c conda-forge nltk"
   ]
  },
  {
   "cell_type": "code",
   "execution_count": null,
   "id": "d8cb5534",
   "metadata": {},
   "outputs": [],
   "source": [
    "import numpy\n",
    "from apricot import FacilityLocationSelection"
   ]
  },
  {
   "cell_type": "code",
   "execution_count": null,
   "id": "0e2298dd",
   "metadata": {},
   "outputs": [],
   "source": [
    "#need to connect apricot to jupyter"
   ]
  },
  {
   "cell_type": "code",
   "execution_count": null,
   "id": "c1023aa0",
   "metadata": {},
   "outputs": [],
   "source": [
    "X = numpy.random.normal(100, 1, size=(5000, 25))"
   ]
  },
  {
   "cell_type": "code",
   "execution_count": null,
   "id": "820fb734",
   "metadata": {},
   "outputs": [],
   "source": [
    "X_subset = FacilityLocationSelection(100, metric='euclidean', optimizer='lazy').fit_transform(X)"
   ]
  }
 ],
 "metadata": {
  "kernelspec": {
   "display_name": "Python 3 (ipykernel)",
   "language": "python",
   "name": "python3"
  },
  "language_info": {
   "codemirror_mode": {
    "name": "ipython",
    "version": 3
   },
   "file_extension": ".py",
   "mimetype": "text/x-python",
   "name": "python",
   "nbconvert_exporter": "python",
   "pygments_lexer": "ipython3",
   "version": "3.9.7"
  }
 },
 "nbformat": 4,
 "nbformat_minor": 5
}
