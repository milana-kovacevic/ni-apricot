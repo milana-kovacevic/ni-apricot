{
 "cells": [
  {
   "cell_type": "markdown",
   "id": "93847a3c",
   "metadata": {},
   "source": [
    "# Setup Apricot package\n",
    "Src: https://github.com/jmschrei/apricot"
   ]
  },
  {
   "cell_type": "code",
   "execution_count": 1,
   "id": "f1ee8c35",
   "metadata": {},
   "outputs": [
    {
     "name": "stdout",
     "output_type": "stream",
     "text": [
      "The numpy version is 1.21.5.\n",
      "The scipy version is 1.7.3.\n",
      "The nltk version is 3.7.\n",
      "The numba version is 0.55.1.\n",
      "The tqdm version is 4.64.0.\n",
      "The sklearn version is 1.0.2.\n"
     ]
    }
   ],
   "source": [
    "import numpy\n",
    "import scipy\n",
    "import numba\n",
    "import tqdm\n",
    "import sklearn\n",
    "import nltk\n",
    "\n",
    "print('The numpy version is {}.'.format(numpy.__version__))\n",
    "print('The scipy version is {}.'.format(scipy.__version__))\n",
    "print('The nltk version is {}.'.format(nltk.__version__))\n",
    "print('The numba version is {}.'.format(numba.__version__))\n",
    "print('The tqdm version is {}.'.format(tqdm.__version__))\n",
    "print('The sklearn version is {}.'.format(sklearn.__version__))\n",
    "# Requirements are met!"
   ]
  },
  {
   "cell_type": "markdown",
   "id": "3d623340",
   "metadata": {},
   "source": [
    "Needed to install nltk package:\n",
    "\n",
    "conda install -c conda-forge nltk"
   ]
  },
  {
   "cell_type": "code",
   "execution_count": 2,
   "id": "d8cb5534",
   "metadata": {},
   "outputs": [],
   "source": [
    "import numpy\n",
    "from apricot import FacilityLocationSelection"
   ]
  },
  {
   "cell_type": "markdown",
   "id": "8028590f",
   "metadata": {},
   "source": [
    "Needed to install & connect apricot to jupyter:\n",
    "1. Launch conda.exe prompt\n",
    "2. pip install apricot-select==0.6.1\n",
    "\n",
    "This installs & connects apricot with the current conda environment (even if you have apricot installed in site-packages of your conda directory, you must connect to the env in order to use it.)"
   ]
  },
  {
   "cell_type": "code",
   "execution_count": null,
   "id": "c1023aa0",
   "metadata": {},
   "outputs": [],
   "source": [
    "X = numpy.random.normal(100, 1, size=(5000, 25))"
   ]
  },
  {
   "cell_type": "code",
   "execution_count": null,
   "id": "820fb734",
   "metadata": {},
   "outputs": [],
   "source": [
    "X_subset = FacilityLocationSelection(100, metric='euclidean', optimizer='lazy').fit_transform(X)"
   ]
  },
  {
   "cell_type": "code",
   "execution_count": null,
   "id": "eabf0bf2",
   "metadata": {},
   "outputs": [],
   "source": [
    "print('Original dataset shape: ', X.shape)\n",
    "print('Subset dataset shape: ', X_subset.shape)"
   ]
  },
  {
   "cell_type": "code",
   "execution_count": null,
   "id": "aacf9332",
   "metadata": {},
   "outputs": [],
   "source": []
  },
  {
   "cell_type": "markdown",
   "id": "375c719a",
   "metadata": {},
   "source": [
    "Installing tensorflow (run in conda prompt):\n",
    "\n",
    "pip install tensorflow"
   ]
  },
  {
   "cell_type": "markdown",
   "id": "755e0e31",
   "metadata": {},
   "source": [
    "Soving issue with TBB threading layer:\n",
    "    \n",
    "C:\\Users\\v-milkov\\Anaconda3\\lib\\site-packages\\numba\\np\\ufunc\\parallel.py:366: NumbaWarning: The TBB threading layer requires TBB version 2021 update 1 or later i.e., TBB_INTERFACE_VERSION >= 12010. Found TBB_INTERFACE_VERSION = 11004. The TBB threading layer is disabled.\n",
    "  warnings.warn(problem)\n",
    "  \n",
    "\n",
    "More details about the tbb (Threading Building Blocks) package: https://pypi.org/project/tbb/"
   ]
  },
  {
   "cell_type": "markdown",
   "id": "5d3ba03a",
   "metadata": {},
   "source": [
    "Run (in conda shell)\n",
    "\n",
    "conda install tbb\n",
    "\n",
    "conda update --all"
   ]
  },
  {
   "cell_type": "markdown",
   "id": "2e80156f",
   "metadata": {},
   "source": [
    "[Solved] TBB threading layer issue is solved with bulk update of all conda packages."
   ]
  }
 ],
 "metadata": {
  "kernelspec": {
   "display_name": "Python 3 (ipykernel)",
   "language": "python",
   "name": "python3"
  },
  "language_info": {
   "codemirror_mode": {
    "name": "ipython",
    "version": 3
   },
   "file_extension": ".py",
   "mimetype": "text/x-python",
   "name": "python",
   "nbconvert_exporter": "python",
   "pygments_lexer": "ipython3",
   "version": "3.9.12"
  }
 },
 "nbformat": 4,
 "nbformat_minor": 5
}
