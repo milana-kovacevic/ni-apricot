{
 "cells": [
  {
   "cell_type": "markdown",
   "id": "0d338ff1",
   "metadata": {},
   "source": [
    "Apricot paket pruza nacin da se iz (potencijalno velikog) skupa podataka uzme njegov reprezentativni podskup, koristeci tehnike submodularne optimizacije.\n",
    "Primena je mnogostruka: na primer, za vizualizaciju i razumevanje podataka, kao i za generisanje skupa podataka za treniranje modela u masinskom ucenju (kada  zbog velicine skupa podataka nije moguce trenirati model u realnom vremenu, ili je to skupo)."
   ]
  },
  {
   "cell_type": "code",
   "execution_count": null,
   "id": "958ce27d",
   "metadata": {},
   "outputs": [],
   "source": [
    "# TODO"
   ]
  }
 ],
 "metadata": {
  "kernelspec": {
   "display_name": "Python 3 (ipykernel)",
   "language": "python",
   "name": "python3"
  },
  "language_info": {
   "codemirror_mode": {
    "name": "ipython",
    "version": 3
   },
   "file_extension": ".py",
   "mimetype": "text/x-python",
   "name": "python",
   "nbconvert_exporter": "python",
   "pygments_lexer": "ipython3",
   "version": "3.9.12"
  }
 },
 "nbformat": 4,
 "nbformat_minor": 5
}
